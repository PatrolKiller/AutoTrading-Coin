{
 "cells": [
  {
   "cell_type": "code",
   "execution_count": 1,
   "metadata": {},
   "outputs": [
    {
     "ename": "ModuleNotFoundError",
     "evalue": "No module named 'PyQt5.Qtwidgets'",
     "output_type": "error",
     "traceback": [
      "\u001b[1;31m---------------------------------------------------------------------------\u001b[0m",
      "\u001b[1;31mModuleNotFoundError\u001b[0m                       Traceback (most recent call last)",
      "Cell \u001b[1;32mIn [1], line 2\u001b[0m\n\u001b[0;32m      1\u001b[0m \u001b[39mimport\u001b[39;00m \u001b[39msys\u001b[39;00m\n\u001b[1;32m----> 2\u001b[0m \u001b[39mfrom\u001b[39;00m \u001b[39mPyQt5\u001b[39;00m\u001b[39m.\u001b[39;00m\u001b[39mQtwidgets\u001b[39;00m \u001b[39mimport\u001b[39;00m \u001b[39m*\u001b[39m\n\u001b[0;32m      4\u001b[0m app \u001b[39m=\u001b[39m QApplication(sys\u001b[39m.\u001b[39margv)\n\u001b[0;32m      5\u001b[0m label \u001b[39m=\u001b[39m QLabel(\u001b[39m\"\u001b[39m\u001b[39mHello PyQt\u001b[39m\u001b[39m\"\u001b[39m)\n",
      "\u001b[1;31mModuleNotFoundError\u001b[0m: No module named 'PyQt5.Qtwidgets'"
     ]
    }
   ],
   "source": [
    "import sys\n",
    "from PyQt5.Qtwidgets import *\n",
    "\n",
    "app = QApplication(sys.argv)\n",
    "label = QLabel(\"Hello PyQt\")\n",
    "label.show()\n",
    "app.exec_()"
   ]
  },
  {
   "cell_type": "code",
   "execution_count": 5,
   "metadata": {},
   "outputs": [],
   "source": [
    "import sys\n",
    "from PyQt5.QtWidgets import QApplication, QWidget\n",
    "from PyQt5.QtGui import QIcon\n",
    "\n",
    "class App(QWidget):\n",
    " \n",
    "    def __init__(self):\n",
    "        super().__init__()\n",
    "        self.title = 'Main Window'\n",
    "        self.left = 300\n",
    "        self.top = 300\n",
    "        self.width = 640\n",
    "        self.height = 480\n",
    "        self.initUI()\n",
    "        \n",
    "    def initUI(self):\n",
    "            self.setWindowTitle(self.title)\n",
    "            self.setGeometry(self.left, self.top, self.width, self.height)\n",
    "            self.show()\n",
    "            \n",
    "if __name__ == '__main__':\n",
    "    app = QApplication(sys.argv)\n",
    "    app.aboutToQuit.connect(app.deleteLater)\n",
    "    ex = App()\n",
    "    sys.exit(app.exec_())"
   ]
  },
  {
   "cell_type": "code",
   "execution_count": 1,
   "metadata": {},
   "outputs": [
    {
     "ename": "FileNotFoundError",
     "evalue": "[Errno 2] No such file or directory: './myqt01.ui'",
     "output_type": "error",
     "traceback": [
      "\u001b[1;31m---------------------------------------------------------------------------\u001b[0m",
      "\u001b[1;31mFileNotFoundError\u001b[0m                         Traceback (most recent call last)",
      "Cell \u001b[1;32mIn [1], line 5\u001b[0m\n\u001b[0;32m      2\u001b[0m \u001b[39mfrom\u001b[39;00m \u001b[39mPyQt5\u001b[39;00m\u001b[39m.\u001b[39;00m\u001b[39mQtWidgets\u001b[39;00m \u001b[39mimport\u001b[39;00m QApplication, QWidget, QMainWindow\n\u001b[0;32m      3\u001b[0m \u001b[39mfrom\u001b[39;00m \u001b[39mPyQt5\u001b[39;00m \u001b[39mimport\u001b[39;00m uic \n\u001b[1;32m----> 5\u001b[0m form_class \u001b[39m=\u001b[39m uic\u001b[39m.\u001b[39mloadUiType(\u001b[39m\"\u001b[39m\u001b[39m./myqt01.ui\u001b[39m\u001b[39m\"\u001b[39m)[\u001b[39m0\u001b[39m]\n\u001b[0;32m      7\u001b[0m \u001b[39mclass\u001b[39;00m \u001b[39mWindowClass\u001b[39;00m(QMainWindow, form_class): \n\u001b[0;32m      8\u001b[0m     \u001b[39mdef\u001b[39;00m \u001b[39m__init__\u001b[39m(\u001b[39mself\u001b[39m): \n",
      "File \u001b[1;32mc:\\Users\\kkaa5\\AppData\\Local\\Programs\\Python\\Python310\\lib\\site-packages\\PyQt5\\uic\\__init__.py:200\u001b[0m, in \u001b[0;36mloadUiType\u001b[1;34m(uifile, from_imports, resource_suffix, import_from)\u001b[0m\n\u001b[0;32m    197\u001b[0m     \u001b[39mfrom\u001b[39;00m \u001b[39m.\u001b[39;00m\u001b[39mport_v2\u001b[39;00m\u001b[39m.\u001b[39;00m\u001b[39mstring_io\u001b[39;00m \u001b[39mimport\u001b[39;00m StringIO\n\u001b[0;32m    199\u001b[0m code_string \u001b[39m=\u001b[39m StringIO()\n\u001b[1;32m--> 200\u001b[0m winfo \u001b[39m=\u001b[39m compiler\u001b[39m.\u001b[39;49mUICompiler()\u001b[39m.\u001b[39;49mcompileUi(uifile, code_string, from_imports,\n\u001b[0;32m    201\u001b[0m         resource_suffix, import_from)\n\u001b[0;32m    203\u001b[0m ui_globals \u001b[39m=\u001b[39m {}\n\u001b[0;32m    204\u001b[0m exec(code_string\u001b[39m.\u001b[39mgetvalue(), ui_globals)\n",
      "File \u001b[1;32mc:\\Users\\kkaa5\\AppData\\Local\\Programs\\Python\\Python310\\lib\\site-packages\\PyQt5\\uic\\Compiler\\compiler.py:111\u001b[0m, in \u001b[0;36mUICompiler.compileUi\u001b[1;34m(self, input_stream, output_stream, from_imports, resource_suffix, import_from)\u001b[0m\n\u001b[0;32m    109\u001b[0m \u001b[39mdef\u001b[39;00m \u001b[39mcompileUi\u001b[39m(\u001b[39mself\u001b[39m, input_stream, output_stream, from_imports, resource_suffix, import_from):\n\u001b[0;32m    110\u001b[0m     createCodeIndenter(output_stream)\n\u001b[1;32m--> 111\u001b[0m     w \u001b[39m=\u001b[39m \u001b[39mself\u001b[39;49m\u001b[39m.\u001b[39;49mparse(input_stream, resource_suffix)\n\u001b[0;32m    113\u001b[0m     \u001b[39mself\u001b[39m\u001b[39m.\u001b[39mfactory\u001b[39m.\u001b[39m_cpolicy\u001b[39m.\u001b[39m_writeOutImports()\n\u001b[0;32m    115\u001b[0m     \u001b[39mfor\u001b[39;00m res \u001b[39min\u001b[39;00m \u001b[39mself\u001b[39m\u001b[39m.\u001b[39m_resources:\n",
      "File \u001b[1;32mc:\\Users\\kkaa5\\AppData\\Local\\Programs\\Python\\Python310\\lib\\site-packages\\PyQt5\\uic\\uiparser.py:1020\u001b[0m, in \u001b[0;36mUIParser.parse\u001b[1;34m(self, filename, resource_suffix)\u001b[0m\n\u001b[0;32m   1006\u001b[0m \u001b[39m# The order in which the different branches are handled is important.\u001b[39;00m\n\u001b[0;32m   1007\u001b[0m \u001b[39m# The widget tree handler relies on all custom widgets being known, and\u001b[39;00m\n\u001b[0;32m   1008\u001b[0m \u001b[39m# in order to create the connections, all widgets have to be populated.\u001b[39;00m\n\u001b[0;32m   1009\u001b[0m branchHandlers \u001b[39m=\u001b[39m (\n\u001b[0;32m   1010\u001b[0m     (\u001b[39m\"\u001b[39m\u001b[39mlayoutdefault\u001b[39m\u001b[39m\"\u001b[39m, \u001b[39mself\u001b[39m\u001b[39m.\u001b[39mreadDefaults),\n\u001b[0;32m   1011\u001b[0m     (\u001b[39m\"\u001b[39m\u001b[39mclass\u001b[39m\u001b[39m\"\u001b[39m,         \u001b[39mself\u001b[39m\u001b[39m.\u001b[39mclassname),\n\u001b[1;32m   (...)\u001b[0m\n\u001b[0;32m   1017\u001b[0m     (\u001b[39m\"\u001b[39m\u001b[39mresources\u001b[39m\u001b[39m\"\u001b[39m,     \u001b[39mself\u001b[39m\u001b[39m.\u001b[39mreadResources),\n\u001b[0;32m   1018\u001b[0m )\n\u001b[1;32m-> 1020\u001b[0m document \u001b[39m=\u001b[39m parse(filename)\n\u001b[0;32m   1021\u001b[0m root \u001b[39m=\u001b[39m document\u001b[39m.\u001b[39mgetroot()\n\u001b[0;32m   1023\u001b[0m \u001b[39mif\u001b[39;00m root\u001b[39m.\u001b[39mtag \u001b[39m!=\u001b[39m \u001b[39m'\u001b[39m\u001b[39mui\u001b[39m\u001b[39m'\u001b[39m:\n",
      "File \u001b[1;32mc:\\Users\\kkaa5\\AppData\\Local\\Programs\\Python\\Python310\\lib\\xml\\etree\\ElementTree.py:1222\u001b[0m, in \u001b[0;36mparse\u001b[1;34m(source, parser)\u001b[0m\n\u001b[0;32m   1213\u001b[0m \u001b[39m\"\"\"Parse XML document into element tree.\u001b[39;00m\n\u001b[0;32m   1214\u001b[0m \n\u001b[0;32m   1215\u001b[0m \u001b[39m*source* is a filename or file object containing XML data,\u001b[39;00m\n\u001b[1;32m   (...)\u001b[0m\n\u001b[0;32m   1219\u001b[0m \n\u001b[0;32m   1220\u001b[0m \u001b[39m\"\"\"\u001b[39;00m\n\u001b[0;32m   1221\u001b[0m tree \u001b[39m=\u001b[39m ElementTree()\n\u001b[1;32m-> 1222\u001b[0m tree\u001b[39m.\u001b[39;49mparse(source, parser)\n\u001b[0;32m   1223\u001b[0m \u001b[39mreturn\u001b[39;00m tree\n",
      "File \u001b[1;32mc:\\Users\\kkaa5\\AppData\\Local\\Programs\\Python\\Python310\\lib\\xml\\etree\\ElementTree.py:569\u001b[0m, in \u001b[0;36mElementTree.parse\u001b[1;34m(self, source, parser)\u001b[0m\n\u001b[0;32m    567\u001b[0m close_source \u001b[39m=\u001b[39m \u001b[39mFalse\u001b[39;00m\n\u001b[0;32m    568\u001b[0m \u001b[39mif\u001b[39;00m \u001b[39mnot\u001b[39;00m \u001b[39mhasattr\u001b[39m(source, \u001b[39m\"\u001b[39m\u001b[39mread\u001b[39m\u001b[39m\"\u001b[39m):\n\u001b[1;32m--> 569\u001b[0m     source \u001b[39m=\u001b[39m \u001b[39mopen\u001b[39;49m(source, \u001b[39m\"\u001b[39;49m\u001b[39mrb\u001b[39;49m\u001b[39m\"\u001b[39;49m)\n\u001b[0;32m    570\u001b[0m     close_source \u001b[39m=\u001b[39m \u001b[39mTrue\u001b[39;00m\n\u001b[0;32m    571\u001b[0m \u001b[39mtry\u001b[39;00m:\n",
      "\u001b[1;31mFileNotFoundError\u001b[0m: [Errno 2] No such file or directory: './myqt01.ui'"
     ]
    }
   ],
   "source": [
    "import sys\n",
    "from PyQt5.QtWidgets import QApplication, QWidget, QMainWindow\n",
    "from PyQt5 import uic \n",
    "\n",
    "form_class = uic.loadUiType(\"./myqt01.ui\")[0]\n",
    "\n",
    "class WindowClass(QMainWindow, form_class): \n",
    "    def __init__(self): \n",
    "        super().__init__() \n",
    "        self.setupUi(self)\n",
    "        \n",
    "        self.pb.clicked.connect(self.btnClick)\n",
    "\n",
    "        \n",
    "    def btnClick(self):\n",
    "        print(\"버튼이 클릭되었습니다.\")\n",
    "        self.lbl.setText(\"GootEvening\")\n",
    "        \n",
    "\n",
    "if __name__ == \"__main__\": \n",
    "    app = QApplication(sys.argv) \n",
    "    myWindow = WindowClass() \n",
    "    myWindow.show() \n",
    "    app.exec_()"
   ]
  },
  {
   "cell_type": "code",
   "execution_count": null,
   "metadata": {},
   "outputs": [],
   "source": []
  }
 ],
 "metadata": {
  "kernelspec": {
   "display_name": "Python 3.8.10 64-bit",
   "language": "python",
   "name": "python3"
  },
  "language_info": {
   "codemirror_mode": {
    "name": "ipython",
    "version": 3
   },
   "file_extension": ".py",
   "mimetype": "text/x-python",
   "name": "python",
   "nbconvert_exporter": "python",
   "pygments_lexer": "ipython3",
   "version": "3.8.10"
  },
  "orig_nbformat": 4,
  "vscode": {
   "interpreter": {
    "hash": "076482c8e636239af057c6ff43b078f347c0deffc9f4a3742ba9d14a0d6a21a5"
   }
  }
 },
 "nbformat": 4,
 "nbformat_minor": 2
}
