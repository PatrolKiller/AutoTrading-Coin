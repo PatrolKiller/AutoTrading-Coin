{
 "cells": [
  {
   "cell_type": "code",
   "execution_count": 19,
   "metadata": {},
   "outputs": [
    {
     "data": {
      "text/plain": [
       "314.47050000000036"
      ]
     },
     "execution_count": 19,
     "metadata": {},
     "output_type": "execute_result"
    }
   ],
   "source": [
    "import numpy as np\n",
    "import ccxt\n",
    "import pandas as pd\n",
    "import login\n",
    "\n",
    "binance = login.login()\n",
    "\n",
    "def ATR(day, interval, ticker):\n",
    "    data = binance.fetch_ohlcv(symbol = ticker, since = day, limit= 40, timeframe = interval)\n",
    "    data = pd.DataFrame(data, columns = ['date', 'open', 'high', 'low', 'close', 'volume'])\n",
    "    high_low = data['high'] - data['low']\n",
    "    high_close = np.abs(data['high'] - data['close'].shift())\n",
    "    low_close = np.abs(data['low'] - data['close'].shift())\n",
    "    ranges = pd.concat([high_low, high_close, low_close], axis=1)\n",
    "    true_range = np.max(ranges, axis=1)\n",
    "    atr = true_range.rolling(20).sum()/20\n",
    "    return atr.iloc[-20]"
   ]
  },
  {
   "cell_type": "code",
   "execution_count": null,
   "metadata": {},
   "outputs": [],
   "source": []
  }
 ],
 "metadata": {
  "kernelspec": {
   "display_name": "Python 3.9.13 64-bit (windows store)",
   "language": "python",
   "name": "python3"
  },
  "language_info": {
   "codemirror_mode": {
    "name": "ipython",
    "version": 3
   },
   "file_extension": ".py",
   "mimetype": "text/x-python",
   "name": "python",
   "nbconvert_exporter": "python",
   "pygments_lexer": "ipython3",
   "version": "3.9.13"
  },
  "orig_nbformat": 4,
  "vscode": {
   "interpreter": {
    "hash": "92e7413c7b96f8a0ea2d9d41c8bba00d1b864cab508b51238ad8e0dbada45cc0"
   }
  }
 },
 "nbformat": 4,
 "nbformat_minor": 2
}
