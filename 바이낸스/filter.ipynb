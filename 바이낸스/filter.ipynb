{
 "cells": [
  {
   "cell_type": "code",
   "execution_count": 19,
   "metadata": {},
   "outputs": [],
   "source": [
    "# 필터 주피터입니다.\n",
    "# 우선 Step 3개로 준비했습니다.\n",
    "# Step.1 5달러 이하 종목 삭제\n",
    "# Step.2 20일 평균 거래 금액 5,000만달러 이하 삭제\n",
    "# Step.3 변동률 순위 구하기"
   ]
  },
  {
   "cell_type": "code",
   "execution_count": 1,
   "metadata": {},
   "outputs": [],
   "source": [
    "import ccxt\n",
    "import pandas as pd"
   ]
  },
  {
   "cell_type": "code",
   "execution_count": 3,
   "metadata": {},
   "outputs": [],
   "source": [
    "# 로그인\n",
    "\n",
    "binance = ccxt.binance({\n",
    "    #'apiKey' : 'MPe1dhkEUjkk2FEewGDrIOUK5tMKy0f9QhwWNSRYBWjuMQvX2oMb28H4rxf8K5vA',\n",
    "    #'secret' : 'p26Mb62MBiNutb6M6RYaHGNZCiVUxe92OogQrPBpVEml0nHKuRshcS19Z0HHfkkI',\n",
    "    'enableRateLimit' : True,\n",
    "    # 'options' : {\n",
    "    #     'defaultType' : 'future'\n",
    "    # }\n",
    "})\n",
    "# markets = binance.load_markets()\n",
    "markets = binance.fetch_tickers()\n",
    "markets = pd.DataFrame(markets)\n",
    "# markets = markets.drop(['BTCSTUSDT', 'BTCUSDT_220930', 'ETHUSDT_220930', 'UNFI/USDT'],axis=1)\n",
    "# markets = markets.reset_index(drop=True)"
   ]
  },
  {
   "cell_type": "code",
   "execution_count": 9,
   "metadata": {},
   "outputs": [
    {
     "name": "stdout",
     "output_type": "stream",
     "text": [
      "['BTC/USDT', 'ETH/USDT', 'BNB/USDT', 'NEO/USDT', 'LTC/USDT', 'ETC/USDT', 'BCH/USDT', 'LINK/USDT', 'XMR/USDT', 'ZEC/USDT', 'DASH/USDT', 'ATOM/USDT', 'FTT/USDT', 'SOL/USDT', 'REP/USDT', 'COMP/USDT', 'ZEN/USDT', 'MKR/USDT', 'DCR/USDT', 'BNBUP/USDT', 'YFI/USDT', 'BAL/USDT', 'NMR/USDT', 'DOT/USDT', 'PAXG/USDT', 'WNXM/USDT', 'TRB/USDT', 'YFII/USDT', 'KSM/USDT', 'EGLD/USDT', 'DOTDOWN/USDT', 'WING/USDT', 'UNI/USDT', 'AVAX/USDT', 'AAVE/USDT', 'FIL/USDT', 'AXS/USDT', 'UNFI/USDT', 'JUV/USDT', 'PSG/USDT', 'OG/USDT', 'BTCST/USDT', 'AUTO/USDT', 'BTG/USDT', 'BAR/USDT', 'ICP/USDT', 'AR/USDT', 'LPT/USDT', 'TORN/USDT', 'BOND/USDT', 'MLN/USDT', 'QNT/USDT', 'FARM/USDT', 'QUICK/USDT', 'GNO/USDT', 'ILV/USDT', 'LAZIO/USDT', 'AUCTION/USDT', 'BNX/USDT', 'MOVR/USDT', 'CITY/USDT', 'ENS/USDT', 'KP3R/USDT', 'PORTO/USDT', 'ALCX/USDT', 'SANTOS/USDT', 'FXS/USDT', 'CVX/USDT', 'ALPINE/USDT', 'BIFI/USDT']\n"
     ]
    }
   ],
   "source": [
    "# Step.1 5달러 이하 종목 삭제\n",
    "\n",
    "tickers = []\n",
    "tickers_5 = []\n",
    "for i in range(len(markets.columns)):\n",
    "    if \"/USDT\" in markets.iloc[0][i]:\n",
    "        ticker = markets.iloc[0][i]\n",
    "        tickers.append(ticker)\n",
    "for i in range(len(tickers)):\n",
    "    ticker = tickers[i]\n",
    "    ticker_now_price = binance.fetch_ticker(ticker)\n",
    "    ticker_price = ticker_now_price['close']\n",
    "    if ticker_price > 5:\n",
    "        tickers_5.append(ticker)\n",
    "# ticker_5에 5달러 이상 종목 저장\n",
    "print(tickers_5)"
   ]
  },
  {
   "cell_type": "code",
   "execution_count": 11,
   "metadata": {},
   "outputs": [
    {
     "name": "stdout",
     "output_type": "stream",
     "text": [
      "         ticker       volume\n",
      "0      BTC/USDT  86237470522\n",
      "1      ETH/USDT  27065612170\n",
      "2      BNB/USDT   2592418129\n",
      "3      LTC/USDT    651168409\n",
      "4      ETC/USDT   2493242707\n",
      "5     LINK/USDT    577756188\n",
      "6     ATOM/USDT    948350070\n",
      "7      SOL/USDT   2310718431\n",
      "8      DOT/USDT    719780275\n",
      "9      UNI/USDT    306518271\n",
      "10    AVAX/USDT   1141202429\n",
      "11     FIL/USDT    674685690\n",
      "12    UNFI/USDT    444589861\n",
      "13   BTCST/USDT    307452402\n",
      "14   LAZIO/USDT    422092698\n",
      "15   PORTO/USDT    488815390\n",
      "16  SANTOS/USDT    759448257\n"
     ]
    }
   ],
   "source": [
    "# Step.2 20일 평균 거래 금액 5,000만달러 이하 삭제\n",
    "j = 0\n",
    "volume_total = pd.DataFrame(columns=['ticker', 'volume'])\n",
    "while True:\n",
    "    # j번째 USDT 종목을 선택한다.\n",
    "    ticker = tickers_5[j]\n",
    "    # 티커의 자료를 받는다.\n",
    "    df = binance.fetch_ohlcv(ticker, timeframe='1d', limit=20)\n",
    "    df = pd.DataFrame(df, columns=['date', 'open',\n",
    "                  'high', 'low', 'close', 'volume'])\n",
    "    # 이전 ticker의 값 초기화\n",
    "    dolor_value = []\n",
    "    dolor_total = 0\n",
    "    # 하루 거래량 구한다.\n",
    "    for i in range(len(df)):\n",
    "        dolor = float(df.loc[i, 'close']) * float(df.loc[i, 'volume'])\n",
    "        dolor_value.append(dolor)\n",
    "    df.insert(len(df.columns), \"dolor\", dolor_value)\n",
    "    # 20일 평균 거래량 구한다.\n",
    "    for i in range(len(df)):\n",
    "        dolor_total += df.loc[i, 'dolor']\n",
    "    dolor_total = int(dolor_total)\n",
    "    # 3억달러로 변경\n",
    "    if dolor_total > 300000000:\n",
    "        volume_total.loc[j] = [ticker, dolor_total]\n",
    "    j += 1\n",
    "    if j == len(tickers_5):\n",
    "        break\n",
    "\n",
    "# 인덱스 리셋 (key값 오류뜸)\n",
    "volume_total = volume_total.reset_index(drop=True)\n",
    "print(volume_total)\n"
   ]
  },
  {
   "cell_type": "code",
   "execution_count": 12,
   "metadata": {},
   "outputs": [
    {
     "name": "stdout",
     "output_type": "stream",
     "text": [
      "BTC/USDT의 200일간 변동률 = 66.1034607187482\n",
      "ETH/USDT의 200일간 변동률 = 46.565676361378\n",
      "BNB/USDT의 200일간 변동률 = 27.893777312893235\n",
      "LTC/USDT의 200일간 변동률 = 51.76170995074614\n",
      "ETC/USDT의 200일간 변동률 = 45.3947505359809\n",
      "LINK/USDT의 200일간 변동률 = 61.582491540992905\n",
      "ATOM/USDT의 200일간 변동률 = 47.80776770977095\n",
      "SOL/USDT의 200일간 변동률 = 82.23630330705741\n",
      "DOT/USDT의 200일간 변동률 = 70.07354515088541\n",
      "UNI/USDT의 200일간 변동률 = 20.402267770903958\n",
      "AVAX/USDT의 200일간 변동률 = 120.55117980625806\n",
      "FIL/USDT의 200일간 변동률 = 86.26177373038853\n",
      "UNFI/USDT의 200일간 변동률 = 449.8016223907868\n",
      "BTCST/USDT의 200일간 변동률 = 68.32042360635522\n",
      "LAZIO/USDT의 200일간 변동률 = 147.34810685709604\n",
      "PORTO/USDT의 200일간 변동률 = 137.23154859017382\n",
      "SANTOS/USDT의 200일간 변동률 = 313.2686723749046\n"
     ]
    },
    {
     "data": {
      "text/html": [
       "<div>\n",
       "<style scoped>\n",
       "    .dataframe tbody tr th:only-of-type {\n",
       "        vertical-align: middle;\n",
       "    }\n",
       "\n",
       "    .dataframe tbody tr th {\n",
       "        vertical-align: top;\n",
       "    }\n",
       "\n",
       "    .dataframe thead th {\n",
       "        text-align: right;\n",
       "    }\n",
       "</style>\n",
       "<table border=\"1\" class=\"dataframe\">\n",
       "  <thead>\n",
       "    <tr style=\"text-align: right;\">\n",
       "      <th></th>\n",
       "      <th>ticker</th>\n",
       "      <th>cs</th>\n",
       "    </tr>\n",
       "  </thead>\n",
       "  <tbody>\n",
       "    <tr>\n",
       "      <th>0</th>\n",
       "      <td>UNFI/USDT</td>\n",
       "      <td>449.801622</td>\n",
       "    </tr>\n",
       "    <tr>\n",
       "      <th>1</th>\n",
       "      <td>SANTOS/USDT</td>\n",
       "      <td>313.268672</td>\n",
       "    </tr>\n",
       "    <tr>\n",
       "      <th>2</th>\n",
       "      <td>LAZIO/USDT</td>\n",
       "      <td>147.348107</td>\n",
       "    </tr>\n",
       "    <tr>\n",
       "      <th>3</th>\n",
       "      <td>PORTO/USDT</td>\n",
       "      <td>137.231549</td>\n",
       "    </tr>\n",
       "    <tr>\n",
       "      <th>4</th>\n",
       "      <td>AVAX/USDT</td>\n",
       "      <td>120.551180</td>\n",
       "    </tr>\n",
       "    <tr>\n",
       "      <th>5</th>\n",
       "      <td>FIL/USDT</td>\n",
       "      <td>86.261774</td>\n",
       "    </tr>\n",
       "    <tr>\n",
       "      <th>6</th>\n",
       "      <td>SOL/USDT</td>\n",
       "      <td>82.236303</td>\n",
       "    </tr>\n",
       "    <tr>\n",
       "      <th>7</th>\n",
       "      <td>DOT/USDT</td>\n",
       "      <td>70.073545</td>\n",
       "    </tr>\n",
       "    <tr>\n",
       "      <th>8</th>\n",
       "      <td>BTCST/USDT</td>\n",
       "      <td>68.320424</td>\n",
       "    </tr>\n",
       "    <tr>\n",
       "      <th>9</th>\n",
       "      <td>BTC/USDT</td>\n",
       "      <td>66.103461</td>\n",
       "    </tr>\n",
       "    <tr>\n",
       "      <th>10</th>\n",
       "      <td>LINK/USDT</td>\n",
       "      <td>61.582492</td>\n",
       "    </tr>\n",
       "    <tr>\n",
       "      <th>11</th>\n",
       "      <td>LTC/USDT</td>\n",
       "      <td>51.761710</td>\n",
       "    </tr>\n",
       "    <tr>\n",
       "      <th>12</th>\n",
       "      <td>ATOM/USDT</td>\n",
       "      <td>47.807768</td>\n",
       "    </tr>\n",
       "    <tr>\n",
       "      <th>13</th>\n",
       "      <td>ETH/USDT</td>\n",
       "      <td>46.565676</td>\n",
       "    </tr>\n",
       "    <tr>\n",
       "      <th>14</th>\n",
       "      <td>ETC/USDT</td>\n",
       "      <td>45.394751</td>\n",
       "    </tr>\n",
       "    <tr>\n",
       "      <th>15</th>\n",
       "      <td>BNB/USDT</td>\n",
       "      <td>27.893777</td>\n",
       "    </tr>\n",
       "    <tr>\n",
       "      <th>16</th>\n",
       "      <td>UNI/USDT</td>\n",
       "      <td>20.402268</td>\n",
       "    </tr>\n",
       "  </tbody>\n",
       "</table>\n",
       "</div>"
      ],
      "text/plain": [
       "         ticker          cs\n",
       "0     UNFI/USDT  449.801622\n",
       "1   SANTOS/USDT  313.268672\n",
       "2    LAZIO/USDT  147.348107\n",
       "3    PORTO/USDT  137.231549\n",
       "4     AVAX/USDT  120.551180\n",
       "5      FIL/USDT   86.261774\n",
       "6      SOL/USDT   82.236303\n",
       "7      DOT/USDT   70.073545\n",
       "8    BTCST/USDT   68.320424\n",
       "9      BTC/USDT   66.103461\n",
       "10    LINK/USDT   61.582492\n",
       "11     LTC/USDT   51.761710\n",
       "12    ATOM/USDT   47.807768\n",
       "13     ETH/USDT   46.565676\n",
       "14     ETC/USDT   45.394751\n",
       "15     BNB/USDT   27.893777\n",
       "16     UNI/USDT   20.402268"
      ]
     },
     "execution_count": 12,
     "metadata": {},
     "output_type": "execute_result"
    }
   ],
   "source": [
    "# Step.3 변동률 순위 구하기\n",
    "# cs를 저장할 데이터 프레임\n",
    "j = 0\n",
    "USDT_cs = pd.DataFrame(columns=['ticker', 'cs'])\n",
    "while True:\n",
    "    # j번째 USDT 종목을 선택한다.\n",
    "    ticker = volume_total.loc[j, 'ticker']\n",
    "    # 티커의 자료를 받는다.\n",
    "    df = binance.fetch_ohlcv(ticker, timeframe='1d', limit=200)\n",
    "    # cs와 dpc 초기화\n",
    "    dpc_total = []\n",
    "    cs_total = []\n",
    "    df = pd.DataFrame(df, columns=['date', 'open',\n",
    "                  'high', 'low', 'close', 'volume'])\n",
    "    for i in range(len(df)):\n",
    "        # dpc를 추가하는 코드\n",
    "        if i > 0:\n",
    "            dpc = (float(df.loc[i, 'close']) - float(df.loc[i -\n",
    "               1, 'close']))/float(df.loc[i-1, 'close'])*100\n",
    "            dpc_total.append(dpc)\n",
    "        else:\n",
    "            dpc = 0\n",
    "            dpc_total.append(dpc)\n",
    "    df.insert(len(df.columns), \"dpc\", dpc_total)\n",
    "    \n",
    "    for i in range(len(df)):\n",
    "        # cs를 추가하는 코드\n",
    "        if i > 0:\n",
    "            cs = float(df.loc[i, 'dpc']) + float(cs)\n",
    "            cs_total.append(cs)\n",
    "        else:\n",
    "            cs = 0\n",
    "            cs_total.append(cs)\n",
    "    df.insert(len(df.columns), 'cs', cs_total)\n",
    "    \n",
    "    # cs값을 절대값으로 구하는 코드\n",
    "    cs_value = abs(float(df.loc[len(df)-1, 'cs']))\n",
    "    print('{}의 200일간 변동률 = {}'.format(ticker, cs_value))\n",
    "    USDT_cs.loc[j] = [ticker, cs_value]\n",
    "    j += 1\n",
    "    if j == len(volume_total):\n",
    "        break\n",
    "USDT_cs_sort = USDT_cs.sort_values('cs', ascending=False)\n",
    "USDT_cs_sort = USDT_cs_sort.reset_index(drop=True)\n",
    "USDT_cs_sort"
   ]
  },
  {
   "cell_type": "code",
   "execution_count": 25,
   "metadata": {},
   "outputs": [
    {
     "data": {
      "text/plain": [
       "'HNT/USDT'"
      ]
     },
     "execution_count": 25,
     "metadata": {},
     "output_type": "execute_result"
    }
   ],
   "source": [
    "sort_list = []\n",
    "for sort in range(10):\n",
    "    sort_list.append(USDT_cs_sort.iloc[sort][0])\n",
    "sort_list[0]"
   ]
  },
  {
   "cell_type": "code",
   "execution_count": 26,
   "metadata": {},
   "outputs": [
    {
     "data": {
      "text/plain": [
       "108.09451751305818"
      ]
     },
     "execution_count": 26,
     "metadata": {},
     "output_type": "execute_result"
    }
   ],
   "source": [
    "USDT_cs_sort.iloc[0][1]"
   ]
  },
  {
   "cell_type": "code",
   "execution_count": null,
   "metadata": {},
   "outputs": [],
   "source": []
  }
 ],
 "metadata": {
  "kernelspec": {
   "display_name": "Python 3.9.13 64-bit (windows store)",
   "language": "python",
   "name": "python3"
  },
  "language_info": {
   "codemirror_mode": {
    "name": "ipython",
    "version": 3
   },
   "file_extension": ".py",
   "mimetype": "text/x-python",
   "name": "python",
   "nbconvert_exporter": "python",
   "pygments_lexer": "ipython3",
   "version": "3.9.13"
  },
  "orig_nbformat": 4,
  "vscode": {
   "interpreter": {
    "hash": "92e7413c7b96f8a0ea2d9d41c8bba00d1b864cab508b51238ad8e0dbada45cc0"
   }
  }
 },
 "nbformat": 4,
 "nbformat_minor": 2
}
