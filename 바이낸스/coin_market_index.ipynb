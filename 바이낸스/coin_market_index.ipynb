{
 "cells": [
  {
   "cell_type": "code",
   "execution_count": null,
   "metadata": {},
   "outputs": [],
   "source": []
  }
 ],
 "metadata": {
  "kernelspec": {
   "display_name": "Python 3.9.13 64-bit (microsoft store)",
   "language": "python",
   "name": "python3"
  },
  "language_info": {
   "name": "python",
   "version": "3.9.13"
  },
  "orig_nbformat": 4,
  "vscode": {
   "interpreter": {
    "hash": "92e7413c7b96f8a0ea2d9d41c8bba00d1b864cab508b51238ad8e0dbada45cc0"
   }
  }
 },
 "nbformat": 4,
 "nbformat_minor": 2
}
